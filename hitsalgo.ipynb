{
  "nbformat": 4,
  "nbformat_minor": 0,
  "metadata": {
    "colab": {
      "provenance": []
    },
    "kernelspec": {
      "name": "python3",
      "display_name": "Python 3"
    },
    "language_info": {
      "name": "python"
    }
  },
  "cells": [
    {
      "cell_type": "code",
      "execution_count": 1,
      "metadata": {
        "id": "TAaIjhGPCd5S",
        "outputId": "dbe259a5-a925-4986-803e-000ed7894cfe",
        "colab": {
          "base_uri": "https://localhost:8080/"
        }
      },
      "outputs": [
        {
          "output_type": "stream",
          "name": "stdout",
          "text": [
            "Hub Scores: [0.7369765  0.32798577 0.59100843]\n",
            "Authority Scores: [0.32798456 0.73697583 0.59100994]\n"
          ]
        }
      ],
      "source": [
        "import numpy as np\n",
        "\n",
        "def hits_algorithm(adj_matrix, max_iter=100, tol=1e-6):\n",
        "    \"\"\"\n",
        "    Perform the HITS algorithm on a directed graph represented by an adjacency matrix.\n",
        "\n",
        "    :param adj_matrix: Adjacency matrix representing the graph (NxN matrix)\n",
        "    :param max_iter: Maximum number of iterations for the algorithm\n",
        "    :param tol: Convergence tolerance\n",
        "\n",
        "    :return: hub_scores, authority_scores\n",
        "    \"\"\"\n",
        "    N = adj_matrix.shape[0]  # Number of nodes in the graph\n",
        "\n",
        "    # Initialize hub and authority scores to 1\n",
        "    hubs = np.ones(N)\n",
        "    authorities = np.ones(N)\n",
        "\n",
        "    for _ in range(max_iter):\n",
        "        # Update authority scores\n",
        "        new_authorities = np.dot(adj_matrix.T, hubs)\n",
        "\n",
        "        # Update hub scores\n",
        "        new_hubs = np.dot(adj_matrix, new_authorities)\n",
        "\n",
        "        # Normalize the scores\n",
        "        new_authorities /= np.linalg.norm(new_authorities, 2)\n",
        "        new_hubs /= np.linalg.norm(new_hubs, 2)\n",
        "\n",
        "        # Check for convergence\n",
        "        if np.linalg.norm(new_hubs - hubs, 2) < tol and np.linalg.norm(new_authorities - authorities, 2) < tol:\n",
        "            break\n",
        "\n",
        "        # Update hubs and authorities\n",
        "        hubs, authorities = new_hubs, new_authorities\n",
        "\n",
        "    return hubs, authorities\n",
        "\n",
        "# Example usage:\n",
        "if __name__ == \"__main__\":\n",
        "    # Example adjacency matrix of a directed graph\n",
        "    # Graph:\n",
        "    # 0 -> 1, 0 -> 2\n",
        "    # 1 -> 2\n",
        "    # 2 -> 0, 2 -> 1\n",
        "    adj_matrix = np.array([\n",
        "        [0, 1, 1],\n",
        "        [0, 0, 1],\n",
        "        [1, 1, 0]\n",
        "    ])\n",
        "\n",
        "    hubs, authorities = hits_algorithm(adj_matrix)\n",
        "\n",
        "    print(\"Hub Scores:\", hubs)\n",
        "    print(\"Authority Scores:\", authorities)\n"
      ]
    }
  ]
}