{
  "nbformat": 4,
  "nbformat_minor": 0,
  "metadata": {
    "colab": {
      "provenance": []
    },
    "kernelspec": {
      "name": "python3",
      "display_name": "Python 3"
    },
    "language_info": {
      "name": "python"
    }
  },
  "cells": [
    {
      "cell_type": "code",
      "execution_count": null,
      "metadata": {
        "colab": {
          "base_uri": "https://localhost:8080/"
        },
        "id": "ALT4L0Jpwp81",
        "outputId": "89aad881-ea21-4156-d23a-b06830de3bb8"
      },
      "outputs": [
        {
          "output_type": "stream",
          "name": "stdout",
          "text": [
            "Decision Tree:\n",
            "{'Income': {'High': {'CreditScore': {'Good': 'Yes', 'Bad': 'No'}}, 'Medium': {'CreditScore': {'Good': 'Yes', 'Bad': {'Age': {'Middle-aged': {'PreviousLoan': {'Yes': 'No'}}}}}}, 'Low': {'CreditScore': {'Good': {'Age': {'Senior': {'PreviousLoan': {'No': 'No'}}}}, 'Bad': 'No'}}}}\n",
            "Prediction for {'Income': 'Medium', 'CreditScore': 'Good', 'Age': 'Young', 'PreviousLoan': 'No'}: Yes\n"
          ]
        }
      ],
      "source": [
        "import math\n",
        "import pandas as pd\n",
        "\n",
        "# Calculate entropy of a dataset\n",
        "def entropy(data):\n",
        "    total = len(data)\n",
        "    value_counts = {}\n",
        "    for value in data:\n",
        "        if value in value_counts:\n",
        "            value_counts[value] += 1\n",
        "        else:\n",
        "            value_counts[value] = 1\n",
        "    entropy_value = 0\n",
        "    for count in value_counts.values():\n",
        "        prob = count / total\n",
        "        entropy_value -= prob * math.log2(prob)\n",
        "    return entropy_value\n",
        "\n",
        "# Calculate information gain for a feature\n",
        "def information_gain(data, feature, target):\n",
        "    total_entropy = entropy(data[target])\n",
        "    feature_values = data[feature].unique()\n",
        "    weighted_entropy = 0\n",
        "    for value in feature_values:\n",
        "        subset = data[data[feature] == value]\n",
        "        subset_entropy = entropy(subset[target])\n",
        "        weighted_entropy += (len(subset) / len(data)) * subset_entropy\n",
        "    return total_entropy - weighted_entropy\n",
        "\n",
        "# Select the feature with the highest information gain\n",
        "def best_feature(data, features, target):\n",
        "    best_gain = -1\n",
        "    best_feature = None\n",
        "    for feature in features:\n",
        "        gain = information_gain(data, feature, target)\n",
        "        if gain > best_gain:\n",
        "            best_gain = gain\n",
        "            best_feature = feature\n",
        "    return best_feature\n",
        "\n",
        "# Create the decision tree recursively\n",
        "def id3(data, features, target):\n",
        "    if len(set(data[target])) == 1:\n",
        "        return data[target].iloc[0]\n",
        "    if not features:\n",
        "        return data[target].mode()[0]\n",
        "    best = best_feature(data, features, target)\n",
        "    tree = {best: {}}\n",
        "    for value in data[best].unique():\n",
        "        subset = data[data[best] == value]\n",
        "        new_features = [f for f in features if f != best]\n",
        "        tree[best][value] = id3(subset, new_features, target)\n",
        "    return tree\n",
        "\n",
        "# Function to classify a single instance\n",
        "def classify(tree, instance):\n",
        "    if isinstance(tree, dict):\n",
        "        feature = list(tree.keys())[0]\n",
        "        feature_value = instance[feature]\n",
        "        return classify(tree[feature][feature_value], instance)\n",
        "    else:\n",
        "        return tree\n",
        "\n",
        "# Example dataset\n",
        "if __name__ == '__main__':\n",
        "    data = {\n",
        "        'Income': ['High', 'High', 'Medium', 'Low', 'Low', 'Low', 'Medium', 'High', 'Low', 'Medium'],\n",
        "        'CreditScore': ['Good', 'Bad', 'Good', 'Good', 'Bad', 'Good', 'Bad', 'Good', 'Good', 'Bad'],\n",
        "        'Age': ['Young', 'Young', 'Middle-aged', 'Senior', 'Senior', 'Senior', 'Middle-aged', 'Young', 'Senior', 'Middle-aged'],\n",
        "        'PreviousLoan': ['No', 'Yes', 'No', 'No', 'Yes', 'No', 'Yes', 'No', 'No', 'Yes'],\n",
        "        'BuyCar': ['Yes', 'No', 'Yes', 'No', 'No', 'Yes', 'No', 'Yes', 'No', 'Yes']\n",
        "    }\n",
        "\n",
        "    df = pd.DataFrame(data)\n",
        "    target = 'BuyCar'\n",
        "    features = [f for f in df.columns if f != target]\n",
        "\n",
        "    tree = id3(df, features, target)\n",
        "    print(\"Decision Tree:\")\n",
        "    print(tree)\n",
        "\n",
        "    new_instance = {'Income': 'Medium', 'CreditScore': 'Good', 'Age': 'Young', 'PreviousLoan': 'No'}\n",
        "    prediction = classify(tree, new_instance)\n",
        "    print(f\"Prediction for {new_instance}: {prediction}\")\n"
      ]
    }
  ]
}