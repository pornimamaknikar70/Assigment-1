{
  "nbformat": 4,
  "nbformat_minor": 0,
  "metadata": {
    "colab": {
      "provenance": []
    },
    "kernelspec": {
      "name": "python3",
      "display_name": "Python 3"
    },
    "language_info": {
      "name": "python"
    }
  },
  "cells": [
    {
      "cell_type": "code",
      "execution_count": 7,
      "metadata": {
        "colab": {
          "base_uri": "https://localhost:8080/"
        },
        "id": "BRvbZNAxp9mM",
        "outputId": "bbf50873-d8c0-4952-86d7-78e64a6549f7"
      },
      "outputs": [
        {
          "output_type": "stream",
          "name": "stderr",
          "text": [
            "[nltk_data] Downloading package punkt to /root/nltk_data...\n",
            "[nltk_data]   Package punkt is already up-to-date!\n"
          ]
        },
        {
          "output_type": "stream",
          "name": "stdout",
          "text": [
            "Requirement already satisfied: nltk in /usr/local/lib/python3.10/dist-packages (3.8.1)\n",
            "Requirement already satisfied: click in /usr/local/lib/python3.10/dist-packages (from nltk) (8.1.7)\n",
            "Requirement already satisfied: joblib in /usr/local/lib/python3.10/dist-packages (from nltk) (1.4.2)\n",
            "Requirement already satisfied: regex>=2021.8.3 in /usr/local/lib/python3.10/dist-packages (from nltk) (2024.5.15)\n",
            "Requirement already satisfied: tqdm in /usr/local/lib/python3.10/dist-packages (from nltk) (4.66.5)\n",
            "In a nutshell, Nineteen Eighty-Four is written in standard English, or Oldspeak, and in the past tense at some indeterminate future beyond the year 1984. That is to say it looks back on the world of 1984 during which the Ninth and Tenth Editions of Newspeak were in usage. The unknown author(s) of the Appendix, looking back on the now-defunct regime of Oceania and apparently writing sometime after 1984 yet before 2050, when the Newspeak dictionary would be perfected, proceed from the fact that this day never came: the Eleventh Edition of the Newspeak dictionary was never published.\n"
          ]
        }
      ],
      "source": [
        "import nltk\n",
        "nltk.download('punkt')\n",
        "!pip install nltk\n",
        "\n",
        "text = \"In a nutshell, Nineteen Eighty-Four is written in standard English, or Oldspeak, and in the past tense at some indeterminate future beyond the year 1984. That is to say it looks back on the world of 1984 during which the Ninth and Tenth Editions of Newspeak were in usage. The unknown author(s) of the Appendix, looking back on the now-defunct regime of Oceania and apparently writing sometime after 1984 yet before 2050, when the Newspeak dictionary would be perfected, proceed from the fact that this day never came: the Eleventh Edition of the Newspeak dictionary was never published.\"\n",
        "print(text)\n"
      ]
    },
    {
      "cell_type": "code",
      "source": [
        "#tokenization\n",
        "from nltk.tokenize import sent_tokenize, word_tokenize\n",
        "print(sent_tokenize(text))\n",
        "print(word_tokenize(text))"
      ],
      "metadata": {
        "colab": {
          "base_uri": "https://localhost:8080/"
        },
        "id": "8uFyApXRrPQQ",
        "outputId": "6eefde92-14a3-4bfc-91b2-15660cf4fff5"
      },
      "execution_count": 8,
      "outputs": [
        {
          "output_type": "stream",
          "name": "stdout",
          "text": [
            "['In a nutshell, Nineteen Eighty-Four is written in standard English, or Oldspeak, and in the past tense at some indeterminate future beyond the year 1984.', 'That is to say it looks back on the world of 1984 during which the Ninth and Tenth Editions of Newspeak were in usage.', 'The unknown author(s) of the Appendix, looking back on the now-defunct regime of Oceania and apparently writing sometime after 1984 yet before 2050, when the Newspeak dictionary would be perfected, proceed from the fact that this day never came: the Eleventh Edition of the Newspeak dictionary was never published.']\n",
            "['In', 'a', 'nutshell', ',', 'Nineteen', 'Eighty-Four', 'is', 'written', 'in', 'standard', 'English', ',', 'or', 'Oldspeak', ',', 'and', 'in', 'the', 'past', 'tense', 'at', 'some', 'indeterminate', 'future', 'beyond', 'the', 'year', '1984', '.', 'That', 'is', 'to', 'say', 'it', 'looks', 'back', 'on', 'the', 'world', 'of', '1984', 'during', 'which', 'the', 'Ninth', 'and', 'Tenth', 'Editions', 'of', 'Newspeak', 'were', 'in', 'usage', '.', 'The', 'unknown', 'author', '(', 's', ')', 'of', 'the', 'Appendix', ',', 'looking', 'back', 'on', 'the', 'now-defunct', 'regime', 'of', 'Oceania', 'and', 'apparently', 'writing', 'sometime', 'after', '1984', 'yet', 'before', '2050', ',', 'when', 'the', 'Newspeak', 'dictionary', 'would', 'be', 'perfected', ',', 'proceed', 'from', 'the', 'fact', 'that', 'this', 'day', 'never', 'came', ':', 'the', 'Eleventh', 'Edition', 'of', 'the', 'Newspeak', 'dictionary', 'was', 'never', 'published', '.']\n"
          ]
        }
      ]
    },
    {
      "cell_type": "code",
      "source": [
        "#normalization\n",
        "lower_text = text.lower()\n",
        "print(lower_text)"
      ],
      "metadata": {
        "colab": {
          "base_uri": "https://localhost:8080/"
        },
        "id": "2XEYss5WrYQ4",
        "outputId": "326ef47c-8644-47d5-a4dc-08bfb2ff5894"
      },
      "execution_count": 9,
      "outputs": [
        {
          "output_type": "stream",
          "name": "stdout",
          "text": [
            "in a nutshell, nineteen eighty-four is written in standard english, or oldspeak, and in the past tense at some indeterminate future beyond the year 1984. that is to say it looks back on the world of 1984 during which the ninth and tenth editions of newspeak were in usage. the unknown author(s) of the appendix, looking back on the now-defunct regime of oceania and apparently writing sometime after 1984 yet before 2050, when the newspeak dictionary would be perfected, proceed from the fact that this day never came: the eleventh edition of the newspeak dictionary was never published.\n"
          ]
        }
      ]
    },
    {
      "cell_type": "code",
      "source": [
        "#stemming\n",
        "from nltk.stem import PorterStemmer\n",
        "from nltk.tokenize import word_tokenize\n",
        "\n",
        "ps = PorterStemmer()\n",
        "\n",
        "# choose some words to be stemmed\n",
        "words = [\"program\", \"programs\", \"programmer\", \"programming\", \"programmers\"]\n",
        "\n",
        "for w in words:\n",
        "    print(w, \" : \", ps.stem(w))"
      ],
      "metadata": {
        "colab": {
          "base_uri": "https://localhost:8080/"
        },
        "id": "sYkA4fy_sAcZ",
        "outputId": "33f7c3d6-ac19-4086-a05e-65657f67b0f7"
      },
      "execution_count": 10,
      "outputs": [
        {
          "output_type": "stream",
          "name": "stdout",
          "text": [
            "program  :  program\n",
            "programs  :  program\n",
            "programmer  :  programm\n",
            "programming  :  program\n",
            "programmers  :  programm\n"
          ]
        }
      ]
    },
    {
      "cell_type": "code",
      "source": [
        "new_text = \"The cook enjoys cooking for cooks in the cookery course,\"\n",
        "words = word_tokenize(new_text)\n",
        "for w in words:\n",
        "    print(w, \" : \", ps.stem(w))"
      ],
      "metadata": {
        "colab": {
          "base_uri": "https://localhost:8080/"
        },
        "id": "2MCTR-0IuSWm",
        "outputId": "9baef2f4-6a8d-4028-a19a-b5bf79561bb8"
      },
      "execution_count": null,
      "outputs": [
        {
          "output_type": "stream",
          "name": "stdout",
          "text": [
            "The  :  the\n",
            "cook  :  cook\n",
            "enjoys  :  enjoy\n",
            "cooking  :  cook\n",
            "for  :  for\n",
            "cooks  :  cook\n",
            "in  :  in\n",
            "the  :  the\n",
            "cookery  :  cookeri\n",
            "course  :  cours\n",
            ",  :  ,\n"
          ]
        }
      ]
    },
    {
      "cell_type": "code",
      "source": [
        "#stopword\n",
        "import nltk\n",
        "from nltk.corpus import stopwords\n",
        "\n",
        "nltk.download('stopwords')\n",
        "print(stopwords.words('english'))"
      ],
      "metadata": {
        "colab": {
          "base_uri": "https://localhost:8080/"
        },
        "id": "zBiIBzgyuwLQ",
        "outputId": "c2b0702c-f143-4887-fb1e-24d0755764bf"
      },
      "execution_count": 11,
      "outputs": [
        {
          "output_type": "stream",
          "name": "stdout",
          "text": [
            "['i', 'me', 'my', 'myself', 'we', 'our', 'ours', 'ourselves', 'you', \"you're\", \"you've\", \"you'll\", \"you'd\", 'your', 'yours', 'yourself', 'yourselves', 'he', 'him', 'his', 'himself', 'she', \"she's\", 'her', 'hers', 'herself', 'it', \"it's\", 'its', 'itself', 'they', 'them', 'their', 'theirs', 'themselves', 'what', 'which', 'who', 'whom', 'this', 'that', \"that'll\", 'these', 'those', 'am', 'is', 'are', 'was', 'were', 'be', 'been', 'being', 'have', 'has', 'had', 'having', 'do', 'does', 'did', 'doing', 'a', 'an', 'the', 'and', 'but', 'if', 'or', 'because', 'as', 'until', 'while', 'of', 'at', 'by', 'for', 'with', 'about', 'against', 'between', 'into', 'through', 'during', 'before', 'after', 'above', 'below', 'to', 'from', 'up', 'down', 'in', 'out', 'on', 'off', 'over', 'under', 'again', 'further', 'then', 'once', 'here', 'there', 'when', 'where', 'why', 'how', 'all', 'any', 'both', 'each', 'few', 'more', 'most', 'other', 'some', 'such', 'no', 'nor', 'not', 'only', 'own', 'same', 'so', 'than', 'too', 'very', 's', 't', 'can', 'will', 'just', 'don', \"don't\", 'should', \"should've\", 'now', 'd', 'll', 'm', 'o', 're', 've', 'y', 'ain', 'aren', \"aren't\", 'couldn', \"couldn't\", 'didn', \"didn't\", 'doesn', \"doesn't\", 'hadn', \"hadn't\", 'hasn', \"hasn't\", 'haven', \"haven't\", 'isn', \"isn't\", 'ma', 'mightn', \"mightn't\", 'mustn', \"mustn't\", 'needn', \"needn't\", 'shan', \"shan't\", 'shouldn', \"shouldn't\", 'wasn', \"wasn't\", 'weren', \"weren't\", 'won', \"won't\", 'wouldn', \"wouldn't\"]\n"
          ]
        },
        {
          "output_type": "stream",
          "name": "stderr",
          "text": [
            "[nltk_data] Downloading package stopwords to /root/nltk_data...\n",
            "[nltk_data]   Unzipping corpora/stopwords.zip.\n"
          ]
        }
      ]
    }
  ]
}