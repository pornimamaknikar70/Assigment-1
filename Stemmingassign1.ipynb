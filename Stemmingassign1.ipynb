{
  "nbformat": 4,
  "nbformat_minor": 0,
  "metadata": {
    "colab": {
      "provenance": []
    },
    "kernelspec": {
      "name": "python3",
      "display_name": "Python 3"
    },
    "language_info": {
      "name": "python"
    }
  },
  "cells": [
    {
      "cell_type": "code",
      "execution_count": 3,
      "metadata": {
        "colab": {
          "base_uri": "https://localhost:8080/"
        },
        "id": "dKPvivfO5UMX",
        "outputId": "b58d304d-6896-4fc5-8776-8bdc76f43c1a"
      },
      "outputs": [
        {
          "output_type": "stream",
          "name": "stdout",
          "text": [
            "running: run\n",
            "runner: runner\n",
            "runs: run\n",
            "runningly: runningli\n",
            "happily: happili\n",
            "happier: happier\n"
          ]
        }
      ],
      "source": [
        "from nltk.stem.porter import *\n",
        "\n",
        "pStemmer = PorterStemmer()\n",
        "\n",
        "list_of_words = [\"running\", \"runner\", \"runs\", \"runningly\", \"happily\", \"happier\"]\n",
        "\n",
        "for words in list_of_words:\n",
        "    print(words + \": \" + pStemmer.stem(words))"
      ]
    }
  ]
}