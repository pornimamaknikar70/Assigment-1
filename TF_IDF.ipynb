{
  "nbformat": 4,
  "nbformat_minor": 0,
  "metadata": {
    "colab": {
      "provenance": []
    },
    "kernelspec": {
      "name": "python3",
      "display_name": "Python 3"
    },
    "language_info": {
      "name": "python"
    }
  },
  "cells": [
    {
      "cell_type": "code",
      "execution_count": 2,
      "metadata": {
        "colab": {
          "base_uri": "https://localhost:8080/"
        },
        "id": "MVnaP4Z3CyBa",
        "outputId": "e916d7db-3c68-4e37-e31a-e05442ab63a2"
      },
      "outputs": [
        {
          "output_type": "stream",
          "name": "stdout",
          "text": [
            "TF-IDF scores for Document 1: {'fruit': 0.07192051811294521, 'banana': 0.07192051811294521}\n",
            "TF-IDF scores for Document 2: {'fruit': 0.07192051811294521, 'banana': 0.07192051811294521}\n",
            "TF-IDF scores for Document 3: {'fruit': 0.0, 'banana': 0.0}\n",
            "TF-IDF scores for Document 4: {'fruit': 0.0, 'banana': 0.0}\n"
          ]
        }
      ],
      "source": [
        "import math\n",
        "from collections import Counter\n",
        "\n",
        "# Function to compute Term Frequency (TF)\n",
        "def compute_tf(document):\n",
        "    tf_scores = {}\n",
        "    total_terms = len(document)\n",
        "    term_counts = Counter(document)\n",
        "    for term, count in term_counts.items():\n",
        "        tf_scores[term] = count / total_terms  # Term Frequency = count of term / total number of terms in the document\n",
        "    return tf_scores\n",
        "\n",
        "# Function to compute Inverse Document Frequency (IDF)\n",
        "def compute_idf(documents):\n",
        "    num_docs = len(documents)\n",
        "    document_frequencies = Counter()\n",
        "\n",
        "    # Count how many documents contain each term\n",
        "    for document in documents:\n",
        "        unique_terms = set(document)  # Ensure each term is counted once per document\n",
        "        for term in unique_terms:\n",
        "            document_frequencies[term] += 1\n",
        "\n",
        "    # Calculate IDF for each term\n",
        "    idf_scores = {}\n",
        "    for term, doc_count in document_frequencies.items():\n",
        "        idf_scores[term] = math.log(num_docs / (1 + doc_count))  # Add 1 to avoid division by zero\n",
        "    return idf_scores\n",
        "\n",
        "# Function to compute TF-IDF for a query and a document\n",
        "def compute_tfidf(query, document, idf_scores):\n",
        "    tf_scores = compute_tf(document)\n",
        "    tfidf_scores = {}\n",
        "\n",
        "    for term in query:\n",
        "        tf = tf_scores.get(term, 0)  # If term is not in document, TF is 0\n",
        "        idf = idf_scores.get(term, 0)  # If term is not in the corpus, IDF is 0\n",
        "        tfidf_scores[term] = tf * idf  # TF-IDF score = TF * IDF\n",
        "    return tfidf_scores\n",
        "\n",
        "# Example documents (each document is a list of terms/words)\n",
        "documents = [\n",
        "    ['apple', 'banana', 'fruit', 'salad'],\n",
        "    ['banana', 'orange', 'fruit', 'smoothie'],\n",
        "    ['dog', 'cat', 'pet', 'animal', 'love'],\n",
        "    ['cat', 'fish', 'pet', 'love']\n",
        "]\n",
        "\n",
        "# Query for which we want to compute TF-IDF scores\n",
        "query = ['fruit', 'banana']\n",
        "\n",
        "# Compute IDF scores from all documents\n",
        "idf_scores = compute_idf(documents)\n",
        "\n",
        "# Compute TF-IDF scores for the query against each document\n",
        "for i, doc in enumerate(documents):\n",
        "    print(f\"TF-IDF scores for Document {i+1}: {compute_tfidf(query, doc, idf_scores)}\")\n"
      ]
    }
  ]
}