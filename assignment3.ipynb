{
  "nbformat": 4,
  "nbformat_minor": 0,
  "metadata": {
    "colab": {
      "provenance": []
    },
    "kernelspec": {
      "name": "python3",
      "display_name": "Python 3"
    },
    "language_info": {
      "name": "python"
    }
  },
  "cells": [
    {
      "cell_type": "code",
      "execution_count": 2,
      "metadata": {
        "colab": {
          "base_uri": "https://localhost:8080/"
        },
        "id": "v3LTMkFIVqS0",
        "outputId": "77dd27aa-e3d7-49c5-8888-bd76c05d61c9"
      },
      "outputs": [
        {
          "output_type": "stream",
          "name": "stdout",
          "text": [
            "Levenshtein distance between 'HELLO' and 'YELLOW' is: 2\n"
          ]
        }
      ],
      "source": [
        "def calculate_levenshtein_dist(a, b):\n",
        "    len_a = len(a)\n",
        "    len_b = len(b)\n",
        "\n",
        "    # Initialize a 2D array where distances will be stored\n",
        "    distances = [[None] * (len_b + 1) for _ in range(len_a + 1)]\n",
        "\n",
        "    # Base cases: cost of converting an empty string to another\n",
        "    for i in range(len_a + 1):\n",
        "        distances[i][0] = i  # Deleting all characters of `a`\n",
        "    for j in range(len_b + 1):\n",
        "        distances[0][j] = j  # Inserting all characters of `b`\n",
        "\n",
        "    # Fill the matrix by comparing each character of the strings\n",
        "    for i in range(1, len_a + 1):\n",
        "        for j in range(1, len_b + 1):\n",
        "            # If characters match, no extra cost is needed\n",
        "            if a[i - 1] == b[j - 1]:\n",
        "                cost = 0\n",
        "            else:\n",
        "                cost = 1  # Cost for substitution if characters don't match\n",
        "\n",
        "            # Compute the minimum cost of three possible operations\n",
        "            distances[i][j] = min(distances[i - 1][j] + 1,     # Remove character from `a`\n",
        "                                  distances[i][j - 1] + 1,     # Add character from `b`\n",
        "                                  distances[i - 1][j - 1] + cost)  # Replace a character\n",
        "\n",
        "    # Return the final value from the bottom-right corner of the matrix\n",
        "    return distances[len_a][len_b]\n",
        "\n",
        "# Sample test\n",
        "first_word = \"HELLO\"\n",
        "second_word = \"YELLOW\"\n",
        "result = calculate_levenshtein_dist(first_word, second_word)\n",
        "print(f\"Levenshtein distance between '{first_word}' and '{second_word}' is: {result}\")\n"
      ]
    }
  ]
}