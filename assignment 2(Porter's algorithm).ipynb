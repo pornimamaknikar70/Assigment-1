{
  "nbformat": 4,
  "nbformat_minor": 0,
  "metadata": {
    "colab": {
      "provenance": [],
      "authorship_tag": "ABX9TyPuWyFiQyz6QrS07jXkx7he",
      "include_colab_link": true
    },
    "kernelspec": {
      "name": "python3",
      "display_name": "Python 3"
    },
    "language_info": {
      "name": "python"
    }
  },
  "cells": [
    {
      "cell_type": "markdown",
      "metadata": {
        "id": "view-in-github",
        "colab_type": "text"
      },
      "source": [
        "<a href=\"https://colab.research.google.com/github/pornimamaknikar70/Assigment-1/blob/main/assignment%202(Porter's%20algorithm).ipynb\" target=\"_parent\"><img src=\"https://colab.research.google.com/assets/colab-badge.svg\" alt=\"Open In Colab\"/></a>"
      ]
    },
    {
      "cell_type": "code",
      "execution_count": 1,
      "metadata": {
        "colab": {
          "base_uri": "https://localhost:8080/"
        },
        "id": "XtQFhgrwlYog",
        "outputId": "9a37577e-80c1-425c-ed68-86ebcf5739ef"
      },
      "outputs": [
        {
          "output_type": "stream",
          "name": "stdout",
          "text": [
            "['runni', 'ru', 'easi', 'fair', 'c']\n"
          ]
        }
      ],
      "source": [
        "import re\n",
        "\n",
        "class PorterStemmer:\n",
        "    def __init__(self):\n",
        "        self.vowel = re.compile(r'[aeiou]')\n",
        "        self.step1_suffixes = [('sses', 'ss'), ('ies', 'i'), ('ss', 'ss'), ('s', '')]\n",
        "        self.step2_suffixes = [('ational', 'ate'), ('tional', 'tion'), ('enci', 'ence'), ('anci', 'ance'),\n",
        "                               ('izer', 'ize'), ('abli', 'able'), ('alli', 'al'), ('entli', 'ent'),\n",
        "                               ('eli', 'e'), ('ousli', 'ous'), ('ization', 'ize'), ('ation', 'ate'),\n",
        "                               ('ator', 'ate'), ('alism', 'al'), ('iveness', 'ive'), ('fulness', 'ful'),\n",
        "                               ('ousness', 'ous'), ('aliti', 'al'), ('iviti', 'ive'), ('biliti', 'ble'),\n",
        "                               ('logi', 'log')]\n",
        "        self.step3_suffixes = [('icate', 'ic'), ('ative', ''), ('alize', 'al'), ('iciti', 'ic'),\n",
        "                               ('ical', 'ic'), ('ful', ''), ('ness', '')]\n",
        "        self.step4_suffixes = [('al', ''), ('ance', ''), ('ence', ''), ('er', ''), ('ic', ''),\n",
        "                               ('able', ''), ('ible', ''), ('ant', ''), ('ent', ''), ('ion', ''),\n",
        "                               ('ou', ''), ('ism', ''), ('ate', ''), ('iti', ''), ('ous', ''),\n",
        "                               ('ive', ''), ('ize', '')]\n",
        "        self.step5_suffixes = [('e', ''), ('ed', ''), ('ing', '')]\n",
        "\n",
        "    def is_vowel(self, char):\n",
        "        return char in 'aeiou'\n",
        "\n",
        "    def measure(self, word):\n",
        "        # A helper function to calculate the \"measure\" of a word.\n",
        "        # Measure is a part of the word length that's not vowels.\n",
        "        # Implementing measure calculation is more complex.\n",
        "        pass\n",
        "\n",
        "    def step1(self, word):\n",
        "        for suffix, replacement in self.step1_suffixes:\n",
        "            if word.endswith(suffix):\n",
        "                stem = word[:-len(suffix)] + replacement\n",
        "                return stem\n",
        "        return word\n",
        "\n",
        "    def step2(self, word):\n",
        "        for suffix, replacement in self.step2_suffixes:\n",
        "            if word.endswith(suffix):\n",
        "                stem = word[:-len(suffix)] + replacement\n",
        "                return stem\n",
        "        return word\n",
        "\n",
        "    def step3(self, word):\n",
        "        for suffix, replacement in self.step3_suffixes:\n",
        "            if word.endswith(suffix):\n",
        "                stem = word[:-len(suffix)] + replacement\n",
        "                return stem\n",
        "        return word\n",
        "\n",
        "    def step4(self, word):\n",
        "        for suffix, replacement in self.step4_suffixes:\n",
        "            if word.endswith(suffix):\n",
        "                stem = word[:-len(suffix)] + replacement\n",
        "                return stem\n",
        "        return word\n",
        "\n",
        "    def step5(self, word):\n",
        "        for suffix in self.step5_suffixes:\n",
        "            if word.endswith(suffix):\n",
        "                stem = word[:-len(suffix)]\n",
        "                return stem\n",
        "        return word\n",
        "\n",
        "    def stem(self, word):\n",
        "        word = word.lower()\n",
        "        if len(word) <= 2:\n",
        "            return word\n",
        "        word = self.step1(word)\n",
        "        word = self.step2(word)\n",
        "        word = self.step3(word)\n",
        "        word = self.step4(word)\n",
        "        word = self.step5(word)\n",
        "        return word\n",
        "\n",
        "# Example usage\n",
        "stemmer = PorterStemmer()\n",
        "words = [\"running\", \"runner\", \"easily\", \"fairly\", \"cats\"]\n",
        "stems = [stemmer.stem(word) for word in words]\n",
        "print(stems)\n"
      ]
    }
  ]
}