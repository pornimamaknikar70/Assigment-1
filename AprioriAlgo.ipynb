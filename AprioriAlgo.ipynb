{
  "nbformat": 4,
  "nbformat_minor": 0,
  "metadata": {
    "colab": {
      "provenance": []
    },
    "kernelspec": {
      "name": "python3",
      "display_name": "Python 3"
    },
    "language_info": {
      "name": "python"
    }
  },
  "cells": [
    {
      "cell_type": "code",
      "execution_count": null,
      "metadata": {
        "colab": {
          "base_uri": "https://localhost:8080/"
        },
        "id": "nhV_lnVlaHSr",
        "outputId": "a7a9d44c-a707-4ba3-a427-b1648e926b93"
      },
      "outputs": [
        {
          "output_type": "stream",
          "name": "stdout",
          "text": [
            "Frequent Itemsets:\n",
            "{'banana'}: 5\n",
            "{'apple'}: 3\n",
            "{'grapes'}: 4\n",
            "{'orange'}: 3\n",
            "{'banana', 'apple'}: 3\n",
            "{'banana', 'grapes'}: 4\n",
            "{'banana', 'orange'}: 3\n",
            "{'apple', 'grapes'}: 2\n",
            "{'apple', 'orange'}: 2\n",
            "{'grapes', 'orange'}: 2\n",
            "{'banana', 'apple', 'grapes'}: 2\n",
            "{'banana', 'apple', 'orange'}: 2\n",
            "{'banana', 'grapes', 'orange'}: 2\n"
          ]
        }
      ],
      "source": [
        "from itertools import combinations\n",
        "\n",
        "def get_frequent_itemsets(transactions, min_support):\n",
        "    itemsets = {}\n",
        "\n",
        "    # Count single item occurrences\n",
        "    for transaction in transactions:\n",
        "        for item in transaction:\n",
        "            itemsets[frozenset([item])] = itemsets.get(frozenset([item]), 0) + 1\n",
        "\n",
        "    # Filter itemsets based on minimum support\n",
        "    total_transactions = len(transactions)\n",
        "    frequent_itemsets = {k: v for k, v in itemsets.items() if v / total_transactions >= min_support}\n",
        "\n",
        "    k = 2\n",
        "    while True:\n",
        "        new_itemsets = {}\n",
        "        prev_itemsets = list(frequent_itemsets.keys())\n",
        "\n",
        "        for i in range(len(prev_itemsets)):\n",
        "            for j in range(i + 1, len(prev_itemsets)):\n",
        "                combined = prev_itemsets[i] | prev_itemsets[j]\n",
        "                if len(combined) == k:\n",
        "                    new_itemsets[combined] = sum(1 for t in transactions if combined.issubset(t))\n",
        "\n",
        "        # Filter new itemsets\n",
        "        new_frequent_itemsets = {k: v for k, v in new_itemsets.items() if v / total_transactions >= min_support}\n",
        "        if not new_frequent_itemsets:\n",
        "            break\n",
        "\n",
        "        frequent_itemsets.update(new_frequent_itemsets)\n",
        "        k += 1\n",
        "\n",
        "    return frequent_itemsets\n",
        "\n",
        "# Updated Example dataset\n",
        "transactions = [\n",
        "    {'apple', 'banana', 'grapes'},\n",
        "    {'banana', 'grapes'},\n",
        "    {'apple', 'orange', 'banana'},\n",
        "    {'apple', 'banana', 'grapes', 'orange'},\n",
        "    {'banana', 'grapes', 'orange'}\n",
        "]\n",
        "\n",
        "# Run Apriori algorithm\n",
        "min_support = 0.4\n",
        "frequent_itemsets = get_frequent_itemsets(transactions, min_support)\n",
        "\n",
        "print(\"Frequent Itemsets:\")\n",
        "for itemset, support in frequent_itemsets.items():\n",
        "    print(f\"{set(itemset)}: {support}\")\n"
      ]
    }
  ]
}