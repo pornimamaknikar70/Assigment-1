{
  "nbformat": 4,
  "nbformat_minor": 0,
  "metadata": {
    "colab": {
      "provenance": []
    },
    "kernelspec": {
      "name": "python3",
      "display_name": "Python 3"
    },
    "language_info": {
      "name": "python"
    }
  },
  "cells": [
    {
      "cell_type": "markdown",
      "source": [
        "### **IR (ASSIGNMENT-1)**"
      ],
      "metadata": {
        "id": "dAmaUzJtdUeF"
      }
    },
    {
      "cell_type": "code",
      "execution_count": null,
      "metadata": {
        "colab": {
          "base_uri": "https://localhost:8080/"
        },
        "id": "_wsUw4AKdPzB",
        "outputId": "3362301c-346d-4bb4-f490-b0ecc70d4160"
      },
      "outputs": [
        {
          "output_type": "stream",
          "name": "stdout",
          "text": [
            "Requirement already satisfied: nltk in /usr/local/lib/python3.10/dist-packages (3.8.1)\n",
            "Requirement already satisfied: click in /usr/local/lib/python3.10/dist-packages (from nltk) (8.1.7)\n",
            "Requirement already satisfied: joblib in /usr/local/lib/python3.10/dist-packages (from nltk) (1.4.2)\n",
            "Requirement already satisfied: regex>=2021.8.3 in /usr/local/lib/python3.10/dist-packages (from nltk) (2024.5.15)\n",
            "Requirement already satisfied: tqdm in /usr/local/lib/python3.10/dist-packages (from nltk) (4.66.5)\n"
          ]
        }
      ],
      "source": [
        "pip install nltk"
      ]
    },
    {
      "cell_type": "markdown",
      "source": [
        "### **TOKENIZATION**"
      ],
      "metadata": {
        "id": "2U1IVeDme55J"
      }
    },
    {
      "cell_type": "code",
      "source": [
        "import nltk\n",
        "from nltk.tokenize import word_tokenize, sent_tokenize\n",
        "\n",
        "nltk.download('punkt')\n",
        "\n",
        "text =     \"Artificial Intelligence (AI) is rapidly transforming various industries, from healthcare and finance to entertainment and education. \"\n",
        "\n",
        "sentences = sent_tokenize(text)\n",
        "print(\"Sentences:\")\n",
        "for sentence in sentences:\n",
        "    print(sentence)\n",
        "\n",
        "\n",
        "words = word_tokenize(text)\n",
        "print(\"\\nWords:\")\n",
        "for word in words:\n",
        "    tokens=word\n",
        "    print(tokens)"
      ],
      "metadata": {
        "colab": {
          "base_uri": "https://localhost:8080/"
        },
        "id": "V7Qw03OxeMcC",
        "outputId": "3d9d93cf-96ff-4cdd-8342-75c8e38c4eaf"
      },
      "execution_count": null,
      "outputs": [
        {
          "output_type": "stream",
          "name": "stdout",
          "text": [
            "Sentences:\n",
            "Artificial Intelligence (AI) is rapidly transforming various industries, from healthcare and finance to entertainment and education.\n",
            "\n",
            "Words:\n",
            "Artificial\n",
            "Intelligence\n",
            "(\n",
            "AI\n",
            ")\n",
            "is\n",
            "rapidly\n",
            "transforming\n",
            "various\n",
            "industries\n",
            ",\n",
            "from\n",
            "healthcare\n",
            "and\n",
            "finance\n",
            "to\n",
            "entertainment\n",
            "and\n",
            "education\n",
            ".\n"
          ]
        },
        {
          "output_type": "stream",
          "name": "stderr",
          "text": [
            "[nltk_data] Downloading package punkt to /root/nltk_data...\n",
            "[nltk_data]   Package punkt is already up-to-date!\n"
          ]
        }
      ]
    },
    {
      "cell_type": "markdown",
      "source": [
        "### **STOPWORDS REMOVAL**"
      ],
      "metadata": {
        "id": "xTFsn5Fqe-_X"
      }
    },
    {
      "cell_type": "code",
      "source": [
        "nltk.download('stopwords')"
      ],
      "metadata": {
        "id": "V6M28wMEesae",
        "colab": {
          "base_uri": "https://localhost:8080/"
        },
        "outputId": "3e794648-3099-4ce2-d697-9d5482b9d9c3"
      },
      "execution_count": null,
      "outputs": [
        {
          "output_type": "stream",
          "name": "stderr",
          "text": [
            "[nltk_data] Downloading package stopwords to /root/nltk_data...\n",
            "[nltk_data]   Unzipping corpora/stopwords.zip.\n"
          ]
        },
        {
          "output_type": "execute_result",
          "data": {
            "text/plain": [
              "True"
            ]
          },
          "metadata": {},
          "execution_count": 6
        }
      ]
    },
    {
      "cell_type": "code",
      "source": [
        "from nltk.corpus import stopwords\n",
        "\n",
        "tokens = [word.lower() for word in words]\n",
        "\n",
        "stop_words = set(stopwords.words('english'))\n",
        "filtered = [word for word in tokens if word not in stop_words]\n",
        "print(\"Tokens after removing StopWords: \\n\")\n",
        "for filter in filtered:\n",
        " print(filter)"
      ],
      "metadata": {
        "colab": {
          "base_uri": "https://localhost:8080/"
        },
        "id": "a2rEumpXihyI",
        "outputId": "1904f195-178a-4d5d-8a43-0fc7551c2437"
      },
      "execution_count": null,
      "outputs": [
        {
          "output_type": "stream",
          "name": "stdout",
          "text": [
            "Tokens after removing StopWords: \n",
            "\n",
            "artificial\n",
            "intelligence\n",
            "(\n",
            "ai\n",
            ")\n",
            "rapidly\n",
            "transforming\n",
            "various\n",
            "industries\n",
            ",\n",
            "healthcare\n",
            "finance\n",
            "entertainment\n",
            "education\n",
            ".\n"
          ]
        }
      ]
    },
    {
      "cell_type": "markdown",
      "source": [
        "### **STEMMING**"
      ],
      "metadata": {
        "id": "2U3C7-wdnkB5"
      }
    },
    {
      "cell_type": "code",
      "source": [
        "from nltk.stem.porter import *\n",
        "\n",
        "pStemmer = PorterStemmer()\n",
        "\n",
        "list_of_words = [\"running\", \"runner\", \"runs\", \"easily\", \"runningly\", \"happily\", \"happier\", \"happiness\", \"happy\", \"unhappiness\"]\n",
        "\n",
        "for words in list_of_words:\n",
        "    print(words + \": \" + pStemmer.stem(words))"
      ],
      "metadata": {
        "colab": {
          "base_uri": "https://localhost:8080/"
        },
        "id": "l8nAivkh_EbX",
        "outputId": "29ad5d1d-8442-4df7-b69f-8d27cef2e627"
      },
      "execution_count": null,
      "outputs": [
        {
          "output_type": "stream",
          "name": "stdout",
          "text": [
            "running: run\n",
            "runner: runner\n",
            "runs: run\n",
            "easily: easili\n",
            "runningly: runningli\n",
            "happily: happili\n",
            "happier: happier\n",
            "happiness: happi\n",
            "happy: happi\n",
            "unhappiness: unhappi\n"
          ]
        }
      ]
    }
  ]
}