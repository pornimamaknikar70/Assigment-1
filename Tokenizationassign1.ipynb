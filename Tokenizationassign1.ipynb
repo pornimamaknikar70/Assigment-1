{
  "nbformat": 4,
  "nbformat_minor": 0,
  "metadata": {
    "colab": {
      "provenance": []
    },
    "kernelspec": {
      "name": "python3",
      "display_name": "Python 3"
    },
    "language_info": {
      "name": "python"
    }
  },
  "cells": [
    {
      "cell_type": "code",
      "source": [],
      "metadata": {
        "id": "Sr4dh4FK0bPX"
      },
      "execution_count": null,
      "outputs": []
    },
    {
      "cell_type": "code",
      "execution_count": 2,
      "metadata": {
        "colab": {
          "base_uri": "https://localhost:8080/"
        },
        "id": "VxDf1BjruZwb",
        "outputId": "4182284c-4b4b-49ff-c148-2ca2304c2a6b"
      },
      "outputs": [
        {
          "output_type": "stream",
          "name": "stdout",
          "text": [
            "Sentences:\n",
            "The sample of documents in testing.\n",
            "\n",
            "Words:\n",
            "The\n",
            "sample\n",
            "of\n",
            "documents\n",
            "in\n",
            "testing\n",
            ".\n"
          ]
        },
        {
          "output_type": "stream",
          "name": "stderr",
          "text": [
            "[nltk_data] Downloading package punkt to /root/nltk_data...\n",
            "[nltk_data]   Package punkt is already up-to-date!\n"
          ]
        }
      ],
      "source": [
        "import nltk\n",
        "from nltk.tokenize import word_tokenize, sent_tokenize\n",
        "\n",
        "nltk.download('punkt')\n",
        "\n",
        "text =\"The sample of documents in testing. \"\n",
        "\n",
        "sentences = sent_tokenize(text)\n",
        "print(\"Sentences:\")\n",
        "for sentence in sentences:\n",
        "    print(sentence)\n",
        "\n",
        "\n",
        "words = word_tokenize(text)\n",
        "print(\"\\nWords:\")\n",
        "for word in words:\n",
        "    tokens=word\n",
        "    print(tokens)\n",
        ""
      ]
    }
  ]
}