{
  "nbformat": 4,
  "nbformat_minor": 0,
  "metadata": {
    "colab": {
      "provenance": []
    },
    "kernelspec": {
      "name": "python3",
      "display_name": "Python 3"
    },
    "language_info": {
      "name": "python"
    }
  },
  "cells": [
    {
      "cell_type": "code",
      "execution_count": 7,
      "metadata": {
        "id": "ubFqLQdBq2cy"
      },
      "outputs": [],
      "source": [
        "from collections import Counter\n",
        "import math\n",
        "\n",
        "text = \"\"\"\n",
        "This is a sample paragraph used to demonstrate how to apply Lovász Local Lemma and Porter's Algorithm.\n",
        "In this example, we analyze certain words and their co-occurrence to ensure they do not appear too frequently\n",
        "and to find a set of independent words.\n",
        "\"\"\"\n"
      ]
    },
    {
      "cell_type": "code",
      "source": [
        "def calculate_probabilities(text, bad_words):\n",
        "    \"\"\"\n",
        "    Calculate the probability of each bad word appearing in the text.\n",
        "\n",
        "    :param text: Input text as a single string\n",
        "    :param bad_words: List of bad words to check\n",
        "    :return: Dictionary of bad word probabilities\n",
        "    \"\"\"\n",
        "    words = text.split()\n",
        "    total_words = len(words)\n",
        "    word_count = Counter(words)\n",
        "\n",
        "    probabilities = {}\n",
        "    for word in bad_words:\n",
        "        probabilities[word] = word_count.get(word, 0) / total_words\n",
        "\n",
        "    return probabilities\n",
        "\n",
        "\n",
        "bad_words = ['sample', 'words', 'example', 'analyze']\n"
      ],
      "metadata": {
        "id": "PMJpg9nkmO4I"
      },
      "execution_count": 8,
      "outputs": []
    },
    {
      "cell_type": "code",
      "source": [
        "\n",
        "dependencies = [[1, 2], [0, 2], [0, 1]]\n"
      ],
      "metadata": {
        "id": "U7794hslmSpG"
      },
      "execution_count": 9,
      "outputs": []
    },
    {
      "cell_type": "code",
      "source": [
        "def satisfies_lll_criterion(probabilities, dependencies):\n",
        "    \"\"\"\n",
        "    Check if the Lovász Local Lemma criterion is satisfied.\n",
        "\n",
        "    :param probabilities: Dictionary of bad word probabilities\n",
        "    :param dependencies: List of lists where each sublist contains indices of dependent words\n",
        "    :return: True if the criterion is satisfied, False otherwise\n",
        "    \"\"\"\n",
        "    e = math.e\n",
        "    p = max(probabilities.values())\n",
        "    d = max(len(dep) for dep in dependencies)\n",
        "\n",
        "    return e * p * (d + 1) <= 1\n",
        "\n",
        "\n",
        "probabilities = calculate_probabilities(text, bad_words)\n",
        "\n",
        "\n",
        "if satisfies_lll_criterion(probabilities, dependencies):\n",
        "    print(\"The Lovász Local Lemma criterion is satisfied.\")\n",
        "else:\n",
        "    print(\"The Lovász Local Lemma criterion is not satisfied.\")\n"
      ],
      "metadata": {
        "colab": {
          "base_uri": "https://localhost:8080/"
        },
        "id": "-g8QPLRJmZ9e",
        "outputId": "2415d050-acea-48e4-985c-08ea6ca2cfda"
      },
      "execution_count": 10,
      "outputs": [
        {
          "output_type": "stream",
          "name": "stdout",
          "text": [
            "The Lovász Local Lemma criterion is satisfied.\n"
          ]
        }
      ]
    },
    {
      "cell_type": "code",
      "source": [
        "def build_graph(text, window_size=2):\n",
        "    \"\"\"\n",
        "    Build a graph where nodes are words and edges represent co-occurrence within a window.\n",
        "\n",
        "    :param text: Input text as a single string\n",
        "    :param window_size: Number of words to consider for co-occurrence\n",
        "    :return: Adjacency list of the graph\n",
        "    \"\"\"\n",
        "    words = text.split()\n",
        "    graph = {}\n",
        "\n",
        "    for i, word in enumerate(words):\n",
        "        if word not in graph:\n",
        "            graph[word] = set()\n",
        "        for j in range(max(0, i - window_size + 1), i):\n",
        "            neighbor = words[j]\n",
        "            if neighbor != word:\n",
        "                graph[word].add(neighbor)\n",
        "                if neighbor not in graph:\n",
        "                    graph[neighbor] = set()\n",
        "                graph[neighbor].add(word)\n",
        "\n",
        "    return graph\n"
      ],
      "metadata": {
        "id": "ip5TETxxmjum"
      },
      "execution_count": 11,
      "outputs": []
    },
    {
      "cell_type": "code",
      "source": [
        "def maximal_independent_set(graph):\n",
        "    \"\"\"\n",
        "    Find a maximal independent set of a graph using a greedy approach.\n",
        "\n",
        "    :param graph: Adjacency list of the graph\n",
        "    :return: A maximal independent set\n",
        "    \"\"\"\n",
        "    independent_set = set()\n",
        "    vertices = set(graph.keys())\n",
        "\n",
        "    while vertices:\n",
        "        v = vertices.pop()\n",
        "        independent_set.add(v)\n",
        "\n",
        "        neighbors = set(graph[v])\n",
        "        vertices.difference_update(neighbors)\n",
        "\n",
        "    return independent_set\n",
        "\n",
        "\n",
        "graph = build_graph(text)\n",
        "\n",
        "\n",
        "independent_set = maximal_independent_set(graph)\n",
        "print(\"Maximal Independent Set of words:\", independent_set)\n"
      ],
      "metadata": {
        "colab": {
          "base_uri": "https://localhost:8080/"
        },
        "id": "by_0Gc9Pmogb",
        "outputId": "4a7eb2fc-cd44-421c-e41a-61c675b844eb"
      },
      "execution_count": 12,
      "outputs": [
        {
          "output_type": "stream",
          "name": "stdout",
          "text": [
            "Maximal Independent Set of words: {'Lovász', 'used', 'independent', 'set', 'Lemma', 'demonstrate', 'In', 'their', 'certain', 'ensure', 'frequently', 'we', \"Porter's\", 'appear', 'find', 'sample', 'This', 'do'}\n"
          ]
        }
      ]
    }
  ]
}