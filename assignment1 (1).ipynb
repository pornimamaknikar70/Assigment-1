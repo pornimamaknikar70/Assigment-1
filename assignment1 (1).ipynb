{
  "nbformat": 4,
  "nbformat_minor": 0,
  "metadata": {
    "colab": {
      "provenance": []
    },
    "kernelspec": {
      "name": "python3",
      "display_name": "Python 3"
    },
    "language_info": {
      "name": "python"
    }
  },
  "cells": [
    {
      "cell_type": "code",
      "execution_count": 1,
      "metadata": {
        "colab": {
          "base_uri": "https://localhost:8080/"
        },
        "id": "u0q_OCVL-q3x",
        "outputId": "29c94f62-9543-4c84-de41-99d35dc9905b"
      },
      "outputs": [
        {
          "output_type": "stream",
          "name": "stderr",
          "text": [
            "[nltk_data] Downloading package punkt to /root/nltk_data...\n",
            "[nltk_data]   Unzipping tokenizers/punkt.zip.\n",
            "[nltk_data] Downloading package stopwords to /root/nltk_data...\n",
            "[nltk_data]   Unzipping corpora/stopwords.zip.\n"
          ]
        },
        {
          "output_type": "stream",
          "name": "stdout",
          "text": [
            "Original Text: Natural Language Processing (NLP) is a field of AI. It's important for analyzing text data. There are many things to learn!\n",
            "Normalized Text: natural language processing nlp is a field of ai its important for analyzing text data there are many things to learn\n",
            "Tokens: natural language processing nlp is a field of ai its important for analyzing text data there are many things to learn\n",
            "Tokens without Stopwords: ['n', 'u', 'r', 'l', ' ', 'l', 'n', 'g', 'u', 'g', 'e', ' ', 'p', 'r', 'c', 'e', 'n', 'g', ' ', 'n', 'l', 'p', ' ', ' ', ' ', 'f', 'e', 'l', ' ', 'f', ' ', ' ', ' ', 'p', 'r', 'n', ' ', 'f', 'r', ' ', 'n', 'l', 'z', 'n', 'g', ' ', 'e', 'x', ' ', ' ', 'h', 'e', 'r', 'e', ' ', 'r', 'e', ' ', 'n', ' ', 'h', 'n', 'g', ' ', ' ', 'l', 'e', 'r', 'n']\n",
            "Stemmed Tokens: ['n', 'u', 'r', 'l', ' ', 'l', 'n', 'g', 'u', 'g', 'e', ' ', 'p', 'r', 'c', 'e', 'n', 'g', ' ', 'n', 'l', 'p', ' ', ' ', ' ', 'f', 'e', 'l', ' ', 'f', ' ', ' ', ' ', 'p', 'r', 'n', ' ', 'f', 'r', ' ', 'n', 'l', 'z', 'n', 'g', ' ', 'e', 'x', ' ', ' ', 'h', 'e', 'r', 'e', ' ', 'r', 'e', ' ', 'n', ' ', 'h', 'n', 'g', ' ', ' ', 'l', 'e', 'r', 'n']\n"
          ]
        }
      ],
      "source": [
        "import nltk\n",
        "import re\n",
        "from nltk.tokenize import word_tokenize\n",
        "from nltk.corpus import stopwords\n",
        "from nltk.stem import PorterStemmer\n",
        "\n",
        "# Download required NLTK data files (if not already done)\n",
        "nltk.download('punkt')\n",
        "nltk.download('stopwords')\n",
        "\n",
        "# Sample text\n",
        "text = \"Natural Language Processing (NLP) is a field of AI. It's important for analyzing text data. There are many things to learn!\"\n",
        "\n",
        "# 1. Tokenization\n",
        "def tokenize_text(text):\n",
        "    return (text)\n",
        "\n",
        "# 2. Normalization (Lowercase, removing special characters)\n",
        "def normalize_text(text):\n",
        "    # Convert text to lowercase and remove non-alphanumeric characters\n",
        "    text = re.sub(r'[^a-zA-Z\\s]', '', text.lower())\n",
        "    return text\n",
        "\n",
        "# 3. Stopword Removal\n",
        "def remove_stopwords(tokens):\n",
        "    stop_words = set(stopwords.words('english'))\n",
        "    return [word for word in tokens if word not in stop_words]\n",
        "\n",
        "# 4. Stemming\n",
        "def stem_tokens(tokens):\n",
        "    stemmer = PorterStemmer()\n",
        "    return [stemmer.stem(word) for word in tokens]\n",
        "\n",
        "# Apply all steps\n",
        "normalized_text = normalize_text(text)\n",
        "tokens = tokenize_text(normalized_text)\n",
        "tokens_without_stopwords = remove_stopwords(tokens)\n",
        "stemmed_tokens = stem_tokens(tokens_without_stopwords)\n",
        "\n",
        "# Output results\n",
        "print(\"Original Text:\", text)\n",
        "print(\"Normalized Text:\", normalized_text)\n",
        "print(\"Tokens:\", tokens)\n",
        "print(\"Tokens without Stopwords:\", tokens_without_stopwords)\n",
        "print(\"Stemmed Tokens:\", stemmed_tokens)\n"
      ]
    }
  ]
}