{
  "nbformat": 4,
  "nbformat_minor": 0,
  "metadata": {
    "colab": {
      "provenance": []
    },
    "kernelspec": {
      "name": "python3",
      "display_name": "Python 3"
    },
    "language_info": {
      "name": "python"
    }
  },
  "cells": [
    {
      "cell_type": "code",
      "execution_count": 1,
      "metadata": {
        "colab": {
          "base_uri": "https://localhost:8080/"
        },
        "id": "Bda6DD0dXKu6",
        "outputId": "e6ffeef4-24aa-4bb0-d2fe-f857721400e7"
      },
      "outputs": [
        {
          "output_type": "stream",
          "name": "stdout",
          "text": [
            "Word Hashes:\n",
            "In: [0, 1, 0, 0, 1, 1, 0, 0]\n",
            "the: [0, 1, 0, 1, 0, 1, 1, 1]\n",
            "fast-paced: [0, 1, 1, 1, 0, 0, 1, 1]\n",
            "world: [1, 1, 1, 0, 0, 1, 1, 1]\n",
            "of: [1, 1, 1, 0, 0, 1, 0, 0]\n",
            "technology,: [0, 0, 1, 1, 0, 0, 1, 1]\n",
            "innovations: [1, 1, 1, 1, 0, 1, 1, 1]\n",
            "like: [0, 0, 0, 0, 1, 0, 1, 1]\n",
            "artificial: [1, 1, 0, 1, 0, 1, 1, 0]\n",
            "intelligence: [0, 0, 0, 0, 0, 1, 0, 1]\n",
            "and: [0, 1, 1, 1, 1, 0, 0, 0]\n",
            "quantum: [0, 0, 0, 1, 0, 1, 1, 1]\n",
            "computing: [1, 0, 0, 0, 0, 0, 1, 0]\n",
            "are: [1, 0, 0, 0, 0, 1, 1, 1]\n",
            "changing: [0, 0, 0, 0, 0, 1, 0, 1]\n",
            "landscape: [0, 1, 0, 1, 0, 1, 0, 0]\n",
            "rapidly.: [1, 1, 1, 0, 0, 0, 1, 1]\n",
            "\n",
            "SimHash (8-bit): 01000111\n"
          ]
        }
      ],
      "source": [
        "import hashlib\n",
        "\n",
        "def compute_word_hash(word, bit_size=8):\n",
        "    # Generate MD5 hash for the given word\n",
        "    word_hash = hashlib.md5(word.encode()).hexdigest()\n",
        "\n",
        "    # Convert the hash to an integer, then to binary, keeping the last 'bit_size' bits\n",
        "    hash_int = int(word_hash, 16)\n",
        "    binary_rep = bin(hash_int)[-bit_size:]\n",
        "\n",
        "    # Ensure the binary representation is padded to match bit size\n",
        "    return [int(bit) for bit in binary_rep.zfill(bit_size)]\n",
        "\n",
        "def calculate_simhash(text, bit_size=8):\n",
        "    words = text.split()\n",
        "\n",
        "    # Initialize the vector to store weights of each bit\n",
        "    bit_weights = [0] * bit_size\n",
        "\n",
        "    # Dictionary to store the binary hash for each word\n",
        "    word_hashes = {}\n",
        "\n",
        "    # Loop through each word to calculate its hash and update the vector\n",
        "    for word in words:\n",
        "        word_binary = compute_word_hash(word, bit_size)\n",
        "\n",
        "        # Store the binary representation for this word\n",
        "        word_hashes[word] = word_binary\n",
        "\n",
        "        # Update the bit weights based on the word's hash\n",
        "        for i in range(bit_size):\n",
        "            if word_binary[i] == 1:\n",
        "                bit_weights[i] += 1\n",
        "            else:\n",
        "                bit_weights[i] -= 1\n",
        "\n",
        "    # Compute the final SimHash value by checking the sign of each bit weight\n",
        "    simhash_binary = ''.join(['1' if weight > 0 else '0' for weight in bit_weights])\n",
        "\n",
        "    return simhash_binary, word_hashes\n",
        "\n",
        "# New example text\n",
        "sample_text = \"In the fast-paced world of technology, innovations like artificial intelligence and quantum computing are changing the landscape rapidly.\"\n",
        "simhash_value, hashes = calculate_simhash(sample_text)\n",
        "\n",
        "# Output word hashes and the resulting SimHash\n",
        "print(\"Word Hashes:\")\n",
        "for word, binary_hash in hashes.items():\n",
        "    print(f\"{word}: {binary_hash}\")\n",
        "print(f\"\\nSimHash (8-bit): {simhash_value}\")\n"
      ]
    }
  ]
}